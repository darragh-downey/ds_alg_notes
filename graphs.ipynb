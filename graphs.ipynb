{
 "cells": [
  {
   "cell_type": "markdown",
   "id": "c2e41e82-9e22-4dd8-8a9a-b41eae2ca3fd",
   "metadata": {
    "tags": []
   },
   "source": [
    "# Studying for programming interview\n",
    "\n",
    "The focus of this jLab is to go over the following:\n",
    "\n",
    "### Data Structures\n",
    "* Trees, Tries, Graphs\n",
    "* Linked Lists\n",
    "* Stacks & Queues\n",
    "* Heaps\n",
    "* Strings\n",
    "\n",
    "### Algorithms\n",
    "* Breadth First Search (BFS or Breadth First 'Q')\n",
    "* Depth First Search (DFS or Depth First 'Stack')\n",
    "* Binary Search\n",
    "* Mergesort\n",
    "* Quicksort\n",
    "\n",
    "### Concepts\n",
    "* Bit Manipulation\n",
    "* Memory (Stack vs Heap)\n",
    "* Recursion\n",
    "* Dynamic Programming\n",
    "* Big O (Time & Space)"
   ]
  },
  {
   "cell_type": "markdown",
   "id": "8aa1b5e2-c5fe-42da-829d-1f8416cc1a81",
   "metadata": {},
   "source": [
    "## Data Structures\n",
    "### Graphs - DFS and BFS\n",
    "\n",
    "![](https://github-camo.global.ssl.fastly.net/81237833eeedea03b1f124ef97a2834f07e81e53/687474703a2f2f7777772e6373652e756e73772e6564752e61752f7e62696c6c772f4a757374736561726368312e676966)\n",
    "\n",
    "The main difference between the two graph traversal algorithms is that DFS uses a STACK to push/pop elements [to the same end] and BFS uses a QUEUE to push/pop to different ends\n",
    "![stack_queue](https://res.cloudinary.com/practicaldev/image/fetch/s--Is8YL7Ba--/c_imagga_scale,f_auto,fl_progressive,h_500,q_auto,w_1000/https://cl.ly/d84e17fec485/Image%25202018-09-13%2520at%252012.22.09%2520PM.png 'stack_q')"
   ]
  },
  {
   "cell_type": "code",
   "execution_count": 17,
   "id": "3d5e8581-9e1c-48ad-9cfa-b0db226ef718",
   "metadata": {},
   "outputs": [
    {
     "name": "stdout",
     "output_type": "stream",
     "text": [
      "undirected graph {'i': ['j', 'k'], 'j': ['i'], 'k': ['i', 'm', 'l'], 'm': ['k'], 'l': ['k'], 'o': ['n'], 'n': ['o']}\n",
      "directed graph {'a': ['b', 'c'], 'b': ['d'], 'c': ['e'], 'd': ['f'], 'e': [], 'f': []}\n"
     ]
    }
   ],
   "source": [
    "from collections import deque\n",
    "\n",
    "u_edges = [['i','j'],['k','i'],['m','k'],['k','l'],['o','n']]\n",
    "d_edges = [['a','b'], ['a', 'c'], ['b', 'd'], ['c', 'e'], ['d', 'f'], ['e', None], ['f', None]]\n",
    "\n",
    "def build_d_graph(edges):\n",
    "    g = {}\n",
    "    for edge in edges:\n",
    "        a, b = edge\n",
    "        if a not in g:\n",
    "            g[a] = []\n",
    "        if b is not None:\n",
    "            g[a].append(b)\n",
    "    return g\n",
    "\n",
    "def build_u_graph(edges):\n",
    "    g = {}\n",
    "    for edge in edges:\n",
    "        a, b = edge\n",
    "        if a not in g:\n",
    "            g[a] = []\n",
    "        if b not in g:\n",
    "            g[b] = []\n",
    "        g[a].append(b)\n",
    "        g[b].append(a)\n",
    "    return g\n",
    "\n",
    "d_graph = build_d_graph(d_edges)\n",
    "u_graph = build_u_graph(u_edges)\n",
    "\n",
    "print(\"undirected graph\", u_graph)\n",
    "print(\"directed graph\", d_graph)"
   ]
  },
  {
   "cell_type": "markdown",
   "id": "6d642f63-ec52-4de7-ade7-6c4fa3f817c7",
   "metadata": {},
   "source": [
    "## The Basics\n",
    "### Depth First Search (Depth First 'STACK')\n",
    "\n",
    "Can be written iteratively or recursively. "
   ]
  },
  {
   "cell_type": "code",
   "execution_count": 22,
   "id": "4df0127c-526f-4082-a1b5-786af6814c63",
   "metadata": {},
   "outputs": [
    {
     "name": "stdout",
     "output_type": "stream",
     "text": [
      "a\n",
      "c\n",
      "e\n",
      "b\n",
      "d\n",
      "f\n"
     ]
    }
   ],
   "source": [
    "def dfs_iter(graph, src):\n",
    "    stack = [src]\n",
    "    while len(stack) > 0:\n",
    "        current = stack.pop()\n",
    "        print(current)\n",
    "        [stack.append(neigh) for neigh in graph[current]]\n",
    "\n",
    "dfs_iter(d_graph, 'a')"
   ]
  },
  {
   "cell_type": "code",
   "execution_count": 23,
   "id": "0e716b3c-a5b6-4b76-972b-1033d878d4e2",
   "metadata": {},
   "outputs": [
    {
     "name": "stdout",
     "output_type": "stream",
     "text": [
      "a\n",
      "b\n",
      "d\n",
      "f\n",
      "c\n",
      "e\n"
     ]
    }
   ],
   "source": [
    "def dfs_recur(graph, src):\n",
    "    print(src)\n",
    "    [dfs_recur(graph, neigh) for neigh in graph[src]]\n",
    "    \n",
    "dfs_recur(d_graph, 'a')"
   ]
  },
  {
   "cell_type": "markdown",
   "id": "b607560b-7f08-44f6-a0b5-885e7517ee7a",
   "metadata": {},
   "source": [
    "### Breadth First Search (Breadth First 'Q')\n",
    "\n",
    "Can really only be written iteratively - makes use of the queue, or in Python's case 'deque' data structure."
   ]
  },
  {
   "cell_type": "code",
   "execution_count": 26,
   "id": "81d8b641-bc40-4137-a921-b68e20d179bc",
   "metadata": {},
   "outputs": [
    {
     "name": "stdout",
     "output_type": "stream",
     "text": [
      "a\n",
      "b\n",
      "c\n",
      "d\n",
      "e\n",
      "f\n"
     ]
    }
   ],
   "source": [
    "def bfs(graph, src):\n",
    "    q = deque()\n",
    "    q.append(src)\n",
    "    while len(q) > 0:\n",
    "        current = q.popleft()\n",
    "        print(current)\n",
    "        [q.append(neigh) for neigh in graph[current]]\n",
    "        \n",
    "bfs(d_graph, 'a')"
   ]
  },
  {
   "cell_type": "markdown",
   "id": "a32b0578-3088-4445-9aef-565fcfcd9e1b",
   "metadata": {},
   "source": [
    "## Graph Traversal \n",
    "#### Is there a path between src - dst \n",
    "\n",
    "### DFS"
   ]
  },
  {
   "cell_type": "code",
   "execution_count": 49,
   "id": "fe5e5f8a-031e-4b6d-bb21-53476d4095ce",
   "metadata": {},
   "outputs": [],
   "source": [
    "def dfs_recur_path(graph, src, dst, visited):\n",
    "    print(src)\n",
    "    if src == dst:\n",
    "        print(\"Found path\")\n",
    "        return True\n",
    "    \n",
    "    if src in visited:\n",
    "        print(\"Looped back around...\")\n",
    "        return False\n",
    "    \n",
    "    visited.add(src)\n",
    "    \n",
    "    for neigh in graph[src]:\n",
    "        if dfs_recur_path(graph, neigh, dst, visited):\n",
    "            return True\n",
    "    print(\"No path found\")\n",
    "    return False"
   ]
  },
  {
   "cell_type": "code",
   "execution_count": 50,
   "id": "406ba4bd-7a5e-4075-8e03-7901e79d3eba",
   "metadata": {},
   "outputs": [
    {
     "name": "stdout",
     "output_type": "stream",
     "text": [
      "DFS - recursive directed graph\n",
      "a\n",
      "b\n",
      "d\n",
      "f\n",
      "Found path\n",
      "\n",
      "DFS - recursive undirected graph\n",
      "i\n",
      "j\n",
      "i\n",
      "Looped back around...\n",
      "No path found\n",
      "k\n",
      "i\n",
      "Looped back around...\n",
      "m\n",
      "k\n",
      "Looped back around...\n",
      "No path found\n",
      "l\n",
      "Found path\n"
     ]
    },
    {
     "data": {
      "text/plain": [
       "True"
      ]
     },
     "execution_count": 50,
     "metadata": {},
     "output_type": "execute_result"
    }
   ],
   "source": [
    "print(\"DFS - recursive directed graph\")\n",
    "dfs_recur_path(d_graph, 'a', 'f', set())\n",
    "print(\"\\nDFS - recursive undirected graph\")\n",
    "dfs_recur_path(u_graph, 'i', 'l', set())"
   ]
  },
  {
   "cell_type": "code",
   "execution_count": 51,
   "id": "da065ca8-677e-439b-861c-6993019535ee",
   "metadata": {},
   "outputs": [],
   "source": [
    "def dfs_iter_path(graph, src, dst):\n",
    "    stack = [src]\n",
    "    visited = set()\n",
    "    while len(stack) > 0:\n",
    "        cur = stack.pop()\n",
    "        print(cur)\n",
    "        if cur == dst:\n",
    "            print(\"Found path\")\n",
    "            return True\n",
    "        if cur in visited:\n",
    "            print(\"Looped back around\")\n",
    "            return False\n",
    "        \n",
    "        visited.add(cur)\n",
    "        \n",
    "        for neigh in graph[cur]:\n",
    "            stack.append(neigh)\n",
    "    print(\"No path found\")\n",
    "    return False"
   ]
  },
  {
   "cell_type": "code",
   "execution_count": 53,
   "id": "4b7349c1-ed2f-4f6b-94a5-73d0fbe37eb2",
   "metadata": {},
   "outputs": [
    {
     "name": "stdout",
     "output_type": "stream",
     "text": [
      "DFS - iterative directed graph\n",
      "a\n",
      "c\n",
      "e\n",
      "b\n",
      "d\n",
      "f\n",
      "Found path\n",
      "\n",
      "DFS - iterative undirected graph\n",
      "i\n",
      "k\n",
      "l\n",
      "Found path\n"
     ]
    },
    {
     "data": {
      "text/plain": [
       "True"
      ]
     },
     "execution_count": 53,
     "metadata": {},
     "output_type": "execute_result"
    }
   ],
   "source": [
    "print(\"DFS - iterative directed graph\")\n",
    "dfs_iter_path(d_graph, 'a', 'f')\n",
    "print(\"\\nDFS - iterative undirected graph\")\n",
    "dfs_iter_path(u_graph, 'i', 'l')"
   ]
  },
  {
   "cell_type": "markdown",
   "id": "e4e79964-aa1d-4d06-9721-d2389233ae25",
   "metadata": {},
   "source": [
    "### BFS"
   ]
  },
  {
   "cell_type": "code",
   "execution_count": 54,
   "id": "5462190f-6954-4be8-b8df-615d78b3fe31",
   "metadata": {},
   "outputs": [],
   "source": [
    "def bfs_path(graph, src, dst):\n",
    "    q = deque()\n",
    "    q.append(src)\n",
    "    while len(q) > 0:\n",
    "        current = q.popleft()\n",
    "        print(current)\n",
    "        if current == dst:\n",
    "            print(\"Found path\")\n",
    "            return True\n",
    "        [q.append(neigh) for neigh in graph[current]]\n",
    "    print(\"No path found\")\n",
    "    return False"
   ]
  },
  {
   "cell_type": "code",
   "execution_count": 55,
   "id": "133548f1-5d5c-480f-91c4-6aa5fea705e3",
   "metadata": {},
   "outputs": [
    {
     "name": "stdout",
     "output_type": "stream",
     "text": [
      "BFS - directed graph\n",
      "a\n",
      "b\n",
      "c\n",
      "d\n",
      "e\n",
      "f\n",
      "Found path\n"
     ]
    },
    {
     "data": {
      "text/plain": [
       "True"
      ]
     },
     "execution_count": 55,
     "metadata": {},
     "output_type": "execute_result"
    }
   ],
   "source": [
    "print(\"BFS - directed graph\")       \n",
    "bfs_path(d_graph, 'a', 'f')"
   ]
  },
  {
   "cell_type": "markdown",
   "id": "8d453f29-43f7-4615-861c-26989263efa3",
   "metadata": {},
   "source": [
    "## Graph Problem: Connected Components Count\n",
    "### Count the number of connected components\n",
    "Write a function, *connected_components_count*, that takes in the adjacency list of an undirected graph. The function should return the number of connected components within the graph.\n",
    "\n",
    "##### Note: sketch out the graph to visualize the problem"
   ]
  },
  {
   "cell_type": "code",
   "execution_count": 57,
   "id": "28c6650a-b3f8-4e3e-8af2-656fec8e3ec0",
   "metadata": {},
   "outputs": [
    {
     "data": {
      "text/plain": [
       "2"
      ]
     },
     "execution_count": 57,
     "metadata": {},
     "output_type": "execute_result"
    }
   ],
   "source": [
    "def connected_components_count(graph):\n",
    "    visited = set()\n",
    "    count = 0\n",
    "\n",
    "    for node in graph:\n",
    "        # if we have fully explored a new component/node\n",
    "        if explore(graph, node, visited):\n",
    "            # increment count\n",
    "            count = count + 1\n",
    "        # else; we likely already visited this node \n",
    "    return count\n",
    "\n",
    "        \n",
    "def explore(graph, current, visited):\n",
    "    '''\n",
    "    DFS approach - visit all neighbours while avoiding cycles\n",
    "    '''\n",
    "    # avoid cycle\n",
    "    if current in visited:\n",
    "        return False\n",
    "    \n",
    "    visited.add(current)\n",
    "    \n",
    "    for neighbour in graph[current]:\n",
    "        explore(graph, neighbour, visited)\n",
    "    \n",
    "    # finished exploring all of this components/nodes neighbours\n",
    "    return True\n",
    "\n",
    "\n",
    "n_g = {0:[8,1,5], 1:[0], \n",
    "       5:[0,8], 8:[0,5], \n",
    "       2:[3,4], 3:[2,4],\n",
    "       4:[3,2]\n",
    "      }\n",
    "# Expecting 2\n",
    "connected_components_count(n_g)"
   ]
  },
  {
   "cell_type": "markdown",
   "id": "4625f948-eaf8-48e6-8499-406f4dddf175",
   "metadata": {},
   "source": [
    "## Graph Problem: Largest Component\n",
    "### Find the largest connected component\n",
    "Write a function, *largest_component*, that takes in the adjacency list of an undirected graph. The function should return the largest connected component within the graph.\n",
    "\n",
    "##### Note: sketch out the graph to visualize the problem"
   ]
  },
  {
   "cell_type": "code",
   "execution_count": 79,
   "id": "6749932d-8c96-425c-aa71-16590f3df914",
   "metadata": {},
   "outputs": [
    {
     "name": "stdout",
     "output_type": "stream",
     "text": [
      "Current node 8 current size 1\n",
      "Current node 0 current size 1\n",
      "Already seen 0 size is 0\n",
      " \n",
      "Current node 5 current size 1\n",
      "Current node 0 current size 1\n",
      "Already seen 0 size is 0\n",
      " \n",
      "Current node 8 current size 1\n",
      "Already seen 8 size is 0\n",
      " \n",
      " \n",
      " \n",
      "Current node 1 current size 3\n",
      "Current node 0 current size 1\n",
      "Already seen 0 size is 0\n",
      " \n",
      " \n",
      "Current node 5 current size 4\n",
      "Already seen 5 size is 0\n",
      " \n",
      "\n",
      "Largest is 0 size is 4\n",
      "Set largest to 4 \n",
      "\n",
      "Already seen 1 size is 0\n",
      "\n",
      "We appear to have explored this node 1 size remains 0 \n",
      "\n",
      "Already seen 5 size is 0\n",
      "\n",
      "We appear to have explored this node 5 size remains 0 \n",
      "\n",
      "Already seen 8 size is 0\n",
      "\n",
      "We appear to have explored this node 8 size remains 0 \n",
      "\n",
      "Current node 3 current size 1\n",
      "Current node 2 current size 1\n",
      "Already seen 2 size is 0\n",
      " \n",
      "Current node 4 current size 1\n",
      "Current node 3 current size 1\n",
      "Already seen 3 size is 0\n",
      " \n",
      "Current node 2 current size 1\n",
      "Already seen 2 size is 0\n",
      " \n",
      " \n",
      " \n",
      "Current node 4 current size 3\n",
      "Already seen 4 size is 0\n",
      " \n",
      "\n",
      "We appear to have explored this node 2 size remains 3 \n",
      "\n",
      "Already seen 3 size is 0\n",
      "\n",
      "We appear to have explored this node 3 size remains 0 \n",
      "\n",
      "Already seen 4 size is 0\n",
      "\n",
      "We appear to have explored this node 4 size remains 0 \n",
      "\n"
     ]
    },
    {
     "data": {
      "text/plain": [
       "4"
      ]
     },
     "execution_count": 79,
     "metadata": {},
     "output_type": "execute_result"
    }
   ],
   "source": [
    "def largest_component(graph):\n",
    "    visited = set()\n",
    "    largest = 0\n",
    "    \n",
    "    for node in graph:\n",
    "        size = explore(graph, node, visited)\n",
    "        if size > largest:\n",
    "            print(\"\\nLargest is\", largest, \"size is\", size)\n",
    "            largest = size\n",
    "            print(\"Set largest to\", size, \"\\n\")\n",
    "        else:\n",
    "            print(\"\\nWe appear to have explored this node\", node, \"size remains\", size, \"\\n\")\n",
    "    \n",
    "    return largest\n",
    "    \n",
    "\n",
    "def explore(graph, src, visited):\n",
    "    if src in visited:\n",
    "        print(\"Already seen\", src, \"size is 0\")\n",
    "        return 0\n",
    "    \n",
    "    visited.add(src)\n",
    "    size = 1\n",
    "    \n",
    "    for neigh in graph[src]:\n",
    "        print(\"Current node\", neigh, \"current size\", size)\n",
    "        size += explore(graph, neigh, visited)\n",
    "        print(\" \")\n",
    "    \n",
    "    return size\n",
    "        \n",
    "n_g = {0:[8,1,5], 1:[0], \n",
    "       5:[0,8], 8:[0,5], \n",
    "       2:[3,4], 3:[2,4],\n",
    "       4:[3,2]\n",
    "      }\n",
    "# Expecting 4\n",
    "largest_component(n_g)"
   ]
  },
  {
   "cell_type": "markdown",
   "id": "9e8f7f15-9dd1-4528-a879-5098b86876be",
   "metadata": {},
   "source": [
    "## Graph Problem: Shortest Path\n",
    "### Find the shortest path between two nodes\n",
    "Write a function, *shortest_path*, that takes in an array of edges for an undirected graph and two nodes (nodeA, nodeB). The function should return the length of the shortest path between *A* and *B*. Consider the length as the number of edges in the path, not the number of nodes. If there is no path between *A* and *B*, then return -1.\n",
    "\n",
    "##### Note: sketch out the graph to visualize the problem"
   ]
  },
  {
   "cell_type": "code",
   "execution_count": 102,
   "id": "270b6f23-b095-4be0-b107-29924ca86a9e",
   "metadata": {},
   "outputs": [
    {
     "name": "stdout",
     "output_type": "stream",
     "text": [
      "Graph {'w': ['x', 'v'], 'x': ['w', 'y'], 'y': ['x', 'z'], 'z': ['y', 'v'], 'v': ['z', 'w']}\n"
     ]
    },
    {
     "data": {
      "text/plain": [
       "2"
      ]
     },
     "execution_count": 102,
     "metadata": {},
     "output_type": "execute_result"
    }
   ],
   "source": [
    "def shortest_path(edges, nodeA, nodeB):\n",
    "    '''\n",
    "    BFS implementation - search all adjacent neighbours from NodeA to NodeB\n",
    "    '''\n",
    "    graph = build_u_graph(edges)\n",
    "    print(\"Graph\", graph)\n",
    "    q = deque()\n",
    "    q.append((nodeA, 0))\n",
    "    visited = set()\n",
    "    \n",
    "    while len(q) > 0:\n",
    "        current = q.popleft()\n",
    "        if current in visited or current == nodeB:\n",
    "            return current[1]\n",
    "        \n",
    "        dist = current[1]\n",
    "        visited.add(current)\n",
    "        \n",
    "        for neigh in graph[current[0]]:\n",
    "            q.append((neigh, dist + 1))\n",
    "    return -1\n",
    "    \n",
    "e = [['w', 'x'], ['x', 'y'], ['z', 'y'], ['z', 'v'], ['w', 'v']]\n",
    "# Expecting -> 2\n",
    "shortest_path(e, 'w', 'v')"
   ]
  },
  {
   "cell_type": "markdown",
   "id": "67fe0fc3-9fc1-42c0-83f5-e4424ddc0707",
   "metadata": {},
   "source": [
    "## Graph Problem: Island Count\n",
    "### Count the number of islands on the 2D grid\n",
    "Write a function, *island_count*, that takes in a grid containing 'w' and 'l'. 'w' represents water and 'l' represents land. The function should return the number of islands on the grid. An island is a vertically or horizontally connected region of land.\n",
    "\n",
    "##### Note: sketch out the graph to visualize the problem; also this is a variation of the connected component problem"
   ]
  },
  {
   "cell_type": "markdown",
   "id": "4b3ede0f-da50-4a5b-8bc5-9d9d16589039",
   "metadata": {},
   "source": [
    "To navigate a grid remember that for a given position [row, col]\n",
    "\n",
    "\n",
    "                         [row-1, col]\n",
    "                               |\n",
    "      [row, col-1]   <-   [row, col]   ->   [row, col+1]\n",
    "                               |\n",
    "                         [row+1, col]"
   ]
  },
  {
   "cell_type": "code",
   "execution_count": 192,
   "id": "8b86e792-5f00-410e-8ce1-37b910b1543f",
   "metadata": {},
   "outputs": [],
   "source": [
    "# Utility methods\n",
    "\n",
    "def display_grid(grid):\n",
    "    '''\n",
    "    Render the 2D grid\n",
    "    '''\n",
    "    for row in range(0,len(grid)-1):\n",
    "        s = \"\"\n",
    "        for col in range(0, len(grid[0])-1):\n",
    "            s = s + grid[row][col] + \" \"\n",
    "        print(s)\n",
    "\n",
    "        \n",
    "def bounds(grid, row, col):\n",
    "    '''\n",
    "    Test that the given row, col elements are within the grid\n",
    "    '''\n",
    "    g_row_lower = 0\n",
    "    g_row_upper = len(grid)-1\n",
    "    g_col_lower = 0\n",
    "    g_col_upper = len(grid[0])-1\n",
    "    #print(\"Row bounds\", g_row_lower, \"<=\", row, \"<=\", g_row_upper)\n",
    "    #print(\"Column bounds\", g_col_lower, \"<=\", col, \"<=\", g_col_upper)\n",
    "    if (g_row_lower <= row <= g_row_upper) and \\\n",
    "        (g_col_lower <= col <= g_col_upper):\n",
    "            return True\n",
    "    return False\n",
    "    \n",
    "        \n"
   ]
  },
  {
   "cell_type": "markdown",
   "id": "960a9e31-a056-45d7-8070-7be9e8ddcd4e",
   "metadata": {},
   "source": [
    "#### DFS approach\n",
    "\n",
    "In the main driver code we iterate through all of the rows and for each row, we iterate through all of the columns. We then for each (row, col) pair - explore its neighbours.\n",
    "\n",
    "For exploring, we try a recursive approach where we set three base cases (where we return **FALSE**):\n",
    "* Out of bounds\n",
    "* Revisited land\n",
    "* Water\n",
    "\n",
    "Otherwise we explore North, East, South West of the current node (row,col) recursively, returning **True** when we have visited all neighbours.\n",
    "\n",
    "We increment the count for each successful find."
   ]
  },
  {
   "cell_type": "code",
   "execution_count": 194,
   "id": "fe60fc0a-90be-463a-bd32-61bd0141004b",
   "metadata": {},
   "outputs": [],
   "source": [
    "def island_count(grid):\n",
    "    '''\n",
    "    Return the number of islands\n",
    "    '''\n",
    "    # display_grid(grid)\n",
    "    visited = set()\n",
    "    count = 0\n",
    "    \n",
    "    for row in range(0,len(grid)-1):\n",
    "        for col in range(0, len(grid[0])-1):\n",
    "            if explore_grid(grid, row, col, visited):\n",
    "                count = count + 1\n",
    "    print(\"\\nCOUNT\", count, \"\\n\")\n",
    "    return count\n",
    "\n",
    "\n",
    "def explore_grid(grid, row, col, visited):\n",
    "    '''\n",
    "    DFS recursive - exit w/ False on:\n",
    "    out of bounds, revisited node, water\n",
    "    \n",
    "    return True when all neighbours have been visited\n",
    "    '''\n",
    "    if not bounds(grid, row, col): \n",
    "        return False\n",
    "    \n",
    "    if (row, col) in visited:\n",
    "        return False\n",
    "    \n",
    "    if grid[row][col] == 'w':\n",
    "        return False\n",
    "    \n",
    "    visited.add((row,col))\n",
    "    \n",
    "    explore_grid(grid, row+1, col, visited)\n",
    "    explore_grid(grid, row-1, col, visited)\n",
    "    explore_grid(grid, row, col+1, visited)\n",
    "    explore_grid(grid, row, col-1, visited)\n",
    "    \n",
    "    return True"
   ]
  },
  {
   "cell_type": "markdown",
   "id": "195f873d-858c-45a7-b1a4-df16eb66dd63",
   "metadata": {},
   "source": [
    "#### BFS approach\n",
    "\n",
    "Basically BFS is iterative so we only exit the while loop when we are:\n",
    "* Out of bounds\n",
    "* Revisited a plot of land\n",
    "* Seen all current neighbours\n",
    "\n",
    "\n",
    "As we are only counting islands we only increment by one on each new discovery; For water we just ignore"
   ]
  },
  {
   "cell_type": "code",
   "execution_count": 195,
   "id": "693e9853-811a-4843-a2f2-13389b6eeec2",
   "metadata": {},
   "outputs": [],
   "source": [
    "def island_count_bfs(grid):\n",
    "    '''\n",
    "    '''\n",
    "    # display_grid(grid)\n",
    "    visited = set()\n",
    "    count = 0\n",
    "    \n",
    "    for row in range(0,len(grid)-1):\n",
    "        for col in range(0, len(grid[0])-1):\n",
    "            count += explore_grid_bfs(grid, row, col, visited)\n",
    "            print(\"\")\n",
    "    print(\"\\nCOUNT\", count, \"\\n\")\n",
    "    return count\n",
    "\n",
    "\n",
    "def explore_grid_bfs(grid, row, col, visited):\n",
    "    '''\n",
    "    BFS - find all neighbouring 'l' [land] nodes; \n",
    "          quit when you encounter 'w' [water] nodes\n",
    "    '''\n",
    "    q = deque()\n",
    "    q.append((row, col))\n",
    "    count = 0\n",
    "    \n",
    "    while len(q) > 0:\n",
    "        r,c = q.popleft()\n",
    "        # out of bounds\n",
    "        if not bounds(grid, r,c):\n",
    "            print(\"Yer off tha map laddie!!\", (r,c))\n",
    "            return 0\n",
    "        \n",
    "        if (r, c) in visited:\n",
    "            # saw this piece of land before\n",
    "            print(\"We've been here before lads! Weigh anchor!!\", (r,c), grid[r][c])\n",
    "            return count\n",
    "        \n",
    "        if grid[r][c] == 'w':\n",
    "            print(\"We're on tha hi' seas ye scurvy dogs!\", (r,c), grid[r][c])\n",
    "        \n",
    "        # land ahoy!\n",
    "        if grid[r][c] == 'l':\n",
    "            print(\"Land ahoy!!\", (r,c), grid[r][c])\n",
    "            visited.add((r,c))\n",
    "            count = 1\n",
    "            print(\"Seen\", count, \"islands\")\n",
    "            # test left:  row, col-1\n",
    "            print(\"To PORT!!\", (r,c-1))\n",
    "            q.append((r,c-1))\n",
    "            # test right: row, col+1\n",
    "            print(\"To STARbord!!\", (r,c+1))   \n",
    "            q.append((r,c+1))\n",
    "            # test up:    row - 1, col\n",
    "            print(\"Search above yarr!\", (r-1,c))\n",
    "            q.append((r-1, c))\n",
    "            # test down:  row+1, col            \n",
    "            print(\"Look below ya scurvy mutt!\", (r+1,c))\n",
    "            q.append((r+1,c))    \n",
    "    print(\"Yar seen tha wrld\")\n",
    "    return count"
   ]
  },
  {
   "cell_type": "code",
   "execution_count": 196,
   "id": "0552f20b-d5a7-4fc3-a244-d16d89410340",
   "metadata": {},
   "outputs": [
    {
     "name": "stdout",
     "output_type": "stream",
     "text": [
      "\n",
      "COUNT 3 \n",
      "\n",
      "We're on tha hi' seas ye scurvy dogs! (0, 0) w\n",
      "Yar seen tha wrld\n",
      "\n",
      "Land ahoy!! (0, 1) l\n",
      "Seen 1 islands\n",
      "To PORT!! (0, 0)\n",
      "To STARbord!! (0, 2)\n",
      "Search above yarr! (-1, 1)\n",
      "Look below ya scurvy mutt! (1, 1)\n",
      "We're on tha hi' seas ye scurvy dogs! (0, 0) w\n",
      "We're on tha hi' seas ye scurvy dogs! (0, 2) w\n",
      "Yer off tha map laddie!! (-1, 1)\n",
      "\n",
      "We're on tha hi' seas ye scurvy dogs! (0, 2) w\n",
      "Yar seen tha wrld\n",
      "\n",
      "We're on tha hi' seas ye scurvy dogs! (0, 3) w\n",
      "Yar seen tha wrld\n",
      "\n",
      "We're on tha hi' seas ye scurvy dogs! (1, 0) w\n",
      "Yar seen tha wrld\n",
      "\n",
      "Land ahoy!! (1, 1) l\n",
      "Seen 1 islands\n",
      "To PORT!! (1, 0)\n",
      "To STARbord!! (1, 2)\n",
      "Search above yarr! (0, 1)\n",
      "Look below ya scurvy mutt! (2, 1)\n",
      "We're on tha hi' seas ye scurvy dogs! (1, 0) w\n",
      "We're on tha hi' seas ye scurvy dogs! (1, 2) w\n",
      "We've been here before lads! Weigh anchor!! (0, 1) l\n",
      "\n",
      "We're on tha hi' seas ye scurvy dogs! (1, 2) w\n",
      "Yar seen tha wrld\n",
      "\n",
      "We're on tha hi' seas ye scurvy dogs! (1, 3) w\n",
      "Yar seen tha wrld\n",
      "\n",
      "We're on tha hi' seas ye scurvy dogs! (2, 0) w\n",
      "Yar seen tha wrld\n",
      "\n",
      "We're on tha hi' seas ye scurvy dogs! (2, 1) w\n",
      "Yar seen tha wrld\n",
      "\n",
      "We're on tha hi' seas ye scurvy dogs! (2, 2) w\n",
      "Yar seen tha wrld\n",
      "\n",
      "Land ahoy!! (2, 3) l\n",
      "Seen 1 islands\n",
      "To PORT!! (2, 2)\n",
      "To STARbord!! (2, 4)\n",
      "Search above yarr! (1, 3)\n",
      "Look below ya scurvy mutt! (3, 3)\n",
      "We're on tha hi' seas ye scurvy dogs! (2, 2) w\n",
      "We're on tha hi' seas ye scurvy dogs! (2, 4) w\n",
      "We're on tha hi' seas ye scurvy dogs! (1, 3) w\n",
      "Land ahoy!! (3, 3) l\n",
      "Seen 1 islands\n",
      "To PORT!! (3, 2)\n",
      "To STARbord!! (3, 4)\n",
      "Search above yarr! (2, 3)\n",
      "Look below ya scurvy mutt! (4, 3)\n",
      "Land ahoy!! (3, 2) l\n",
      "Seen 1 islands\n",
      "To PORT!! (3, 1)\n",
      "To STARbord!! (3, 3)\n",
      "Search above yarr! (2, 2)\n",
      "Look below ya scurvy mutt! (4, 2)\n",
      "We're on tha hi' seas ye scurvy dogs! (3, 4) w\n",
      "We've been here before lads! Weigh anchor!! (2, 3) l\n",
      "\n",
      "We're on tha hi' seas ye scurvy dogs! (3, 0) w\n",
      "Yar seen tha wrld\n",
      "\n",
      "We're on tha hi' seas ye scurvy dogs! (3, 1) w\n",
      "Yar seen tha wrld\n",
      "\n",
      "We've been here before lads! Weigh anchor!! (3, 2) l\n",
      "\n",
      "We've been here before lads! Weigh anchor!! (3, 3) l\n",
      "\n",
      "Land ahoy!! (4, 0) l\n",
      "Seen 1 islands\n",
      "To PORT!! (4, -1)\n",
      "To STARbord!! (4, 1)\n",
      "Search above yarr! (3, 0)\n",
      "Look below ya scurvy mutt! (5, 0)\n",
      "Yer off tha map laddie!! (4, -1)\n",
      "\n",
      "We're on tha hi' seas ye scurvy dogs! (4, 1) w\n",
      "Yar seen tha wrld\n",
      "\n",
      "We're on tha hi' seas ye scurvy dogs! (4, 2) w\n",
      "Yar seen tha wrld\n",
      "\n",
      "Land ahoy!! (4, 3) l\n",
      "Seen 1 islands\n",
      "To PORT!! (4, 2)\n",
      "To STARbord!! (4, 4)\n",
      "Search above yarr! (3, 3)\n",
      "Look below ya scurvy mutt! (5, 3)\n",
      "We're on tha hi' seas ye scurvy dogs! (4, 2) w\n",
      "Land ahoy!! (4, 4) l\n",
      "Seen 1 islands\n",
      "To PORT!! (4, 3)\n",
      "To STARbord!! (4, 5)\n",
      "Search above yarr! (3, 4)\n",
      "Look below ya scurvy mutt! (5, 4)\n",
      "We've been here before lads! Weigh anchor!! (3, 3) l\n",
      "\n",
      "\n",
      "COUNT 3 \n",
      "\n"
     ]
    },
    {
     "data": {
      "text/plain": [
       "3"
      ]
     },
     "execution_count": 196,
     "metadata": {},
     "output_type": "execute_result"
    }
   ],
   "source": [
    "grid = [\n",
    "    ['w', 'l', 'w', 'w', 'w'],\n",
    "    ['w', 'l', 'w', 'w', 'w'],\n",
    "    ['w', 'w', 'w', 'l', 'w'],\n",
    "    ['w', 'w', 'l', 'l', 'w'],\n",
    "    ['l', 'w', 'w', 'l', 'l'],\n",
    "    ['l', 'l', 'w', 'w', 'w'],\n",
    "]\n",
    "# expecting -> True\n",
    "# print(bounds(grid, 4,4))\n",
    "\n",
    "# expecting -> 3\n",
    "island_count(grid)\n",
    "# expecting -> 3\n",
    "island_count_bfs(grid)"
   ]
  },
  {
   "cell_type": "markdown",
   "id": "72de2b26-7d17-4281-8827-3a63c3827a71",
   "metadata": {},
   "source": []
  },
  {
   "cell_type": "code",
   "execution_count": null,
   "id": "a93c61b9-8a7b-4759-a43a-f6c47bc57462",
   "metadata": {},
   "outputs": [],
   "source": []
  }
 ],
 "metadata": {
  "kernelspec": {
   "display_name": "Python 3 (ipykernel)",
   "language": "python",
   "name": "python3"
  },
  "language_info": {
   "codemirror_mode": {
    "name": "ipython",
    "version": 3
   },
   "file_extension": ".py",
   "mimetype": "text/x-python",
   "name": "python",
   "nbconvert_exporter": "python",
   "pygments_lexer": "ipython3",
   "version": "3.9.6"
  }
 },
 "nbformat": 4,
 "nbformat_minor": 5
}

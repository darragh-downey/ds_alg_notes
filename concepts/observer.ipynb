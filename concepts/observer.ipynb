{
 "cells": [
  {
   "cell_type": "markdown",
   "id": "96559945-9bef-46a2-a6a4-3debdd4238ac",
   "metadata": {},
   "source": [
    "# Observe-r \n",
    "\n",
    "### Why is it useful?\n",
    "* Think of signals and slots in Qt Framework, RxJs, etc. allows for reactive programming based on events"
   ]
  },
  {
   "cell_type": "code",
   "execution_count": 1,
   "id": "37959aa5-e5d8-4f2b-b333-f3c3ec5af5f8",
   "metadata": {},
   "outputs": [],
   "source": [
    "from abc import ABC, abstractmethod\n",
    "\n",
    "subscribers = {}\n",
    "\n",
    "def subscribe(event: str, fn):\n",
    "    if event not in subscribers:\n",
    "        subscribers[event] = []\n",
    "    subscribers[event].append(fn)\n",
    "\n",
    "\n",
    "def notify(event: str, data):\n",
    "    if event in subscribers:\n",
    "        for f in subscribers[event]:\n",
    "            f(data)"
   ]
  },
  {
   "cell_type": "markdown",
   "id": "712850c5-333d-4d04-8abc-37a2de36bad5",
   "metadata": {},
   "source": [
    "Really simple example which should be substituted for a real-world(ish) example like notification of user account activities by email/text/log/slack/etc."
   ]
  },
  {
   "cell_type": "code",
   "execution_count": 2,
   "id": "032b336d-36c1-4727-b117-8e329509b879",
   "metadata": {},
   "outputs": [],
   "source": [
    "def pour_coffee(amount):\n",
    "    print(f\"Pouring {amount}ml of coffee\\nWatch out it's hot!\")\n",
    "\n",
    "def pour_whiskey(amount):\n",
    "    print(f\"Pouring {amount}ml of whiskey\\n\")\n",
    "    if amount > 30:\n",
    "        print(f\"Really...\\nThat's a lot...\")"
   ]
  },
  {
   "cell_type": "markdown",
   "id": "0e63a1d0-83ac-4c36-9ca5-83899f16250f",
   "metadata": {},
   "source": [
    "Setup the subscriptions for the different handlers"
   ]
  },
  {
   "cell_type": "code",
   "execution_count": 3,
   "id": "c0510736-1055-4b12-881c-4e1497fd64a2",
   "metadata": {},
   "outputs": [],
   "source": [
    "def handle_coffee(amount):\n",
    "    pour_coffee(amount)\n",
    "    \n",
    "def handle_whiskey(amount):\n",
    "    pour_whiskey(amount)\n",
    "    \n",
    "def register():\n",
    "    subscribe(\"pour_liquid\", pour_coffee)\n",
    "    subscribe(\"pour_liquid\", pour_whiskey)"
   ]
  },
  {
   "cell_type": "code",
   "execution_count": 4,
   "id": "d3dbe258-381f-432e-bc02-20137ea0780b",
   "metadata": {},
   "outputs": [],
   "source": [
    "register()"
   ]
  },
  {
   "cell_type": "markdown",
   "id": "650cd7c6-5b7b-4cfe-a4d0-6e481f3830d6",
   "metadata": {},
   "source": [
    "Register the subscriptions"
   ]
  },
  {
   "cell_type": "code",
   "execution_count": 6,
   "id": "b081c878-4151-4cf0-9d65-31e7314c9a5c",
   "metadata": {},
   "outputs": [
    {
     "name": "stdout",
     "output_type": "stream",
     "text": [
      "Pouring 15ml of coffee\n",
      "Watch out it's hot!\n",
      "Pouring 15ml of whiskey\n",
      "\n"
     ]
    }
   ],
   "source": [
    "notify(\"pour_liquid\", 15)"
   ]
  },
  {
   "cell_type": "code",
   "execution_count": 7,
   "id": "f17b357e-1466-4c9f-94f0-af747bdb12f5",
   "metadata": {},
   "outputs": [
    {
     "name": "stdout",
     "output_type": "stream",
     "text": [
      "Pouring 45ml of coffee\n",
      "Watch out it's hot!\n",
      "Pouring 45ml of whiskey\n",
      "\n",
      "Really...\n",
      "That's a lot...\n"
     ]
    }
   ],
   "source": [
    "notify(\"pour_liquid\", 45)"
   ]
  },
  {
   "cell_type": "code",
   "execution_count": null,
   "id": "54b9c738-f28f-4b2e-8dc3-db7d04792ca3",
   "metadata": {},
   "outputs": [],
   "source": []
  }
 ],
 "metadata": {
  "kernelspec": {
   "display_name": "Python 3 (ipykernel)",
   "language": "python",
   "name": "python3"
  },
  "language_info": {
   "codemirror_mode": {
    "name": "ipython",
    "version": 3
   },
   "file_extension": ".py",
   "mimetype": "text/x-python",
   "name": "python",
   "nbconvert_exporter": "python",
   "pygments_lexer": "ipython3",
   "version": "3.9.6"
  }
 },
 "nbformat": 4,
 "nbformat_minor": 5
}

{
 "cells": [
  {
   "cell_type": "markdown",
   "id": "30e052c9-3de9-4e60-8f60-7db5a7660026",
   "metadata": {},
   "source": [
    "# Bridge over the river Kwai?\n",
    "\n",
    "### Why is it useful?\n",
    "* Supports composition over inheritence, even though the composition is with inheritence 'trees'.\n",
    "* It allows for very expressive code as the bridge is between the two abstract base classes and not to implementation detail."
   ]
  },
  {
   "cell_type": "code",
   "execution_count": 35,
   "id": "922edf0c-4fb9-4665-b567-91e397290e22",
   "metadata": {},
   "outputs": [],
   "source": [
    "from abc import ABC, abstractmethod\n",
    "from pathlib import Path\n",
    "\n",
    "class File(ABC):\n",
    "    name: str\n",
    "    location: Path\n",
    "    \n",
    "    @abstractmethod\n",
    "    def save(self):\n",
    "        \"\"\"Write contents to file and save\"\"\"\n",
    "    \n",
    "\n",
    "class Editor(ABC):\n",
    "    \n",
    "    def __init__(self, file: File):\n",
    "        # here is the Bridge between two ABC family trees\n",
    "        self.file = file\n",
    "    \n",
    "    @abstractmethod\n",
    "    def save_file(self):\n",
    "        \"\"\"Saves the file\"\"\"\n",
    "\n",
    "        \n",
    "class WordFile(File):\n",
    "    \n",
    "    def __init__(self, name: str, location: Path):\n",
    "        self.name = name\n",
    "        self.location = location\n",
    "        \n",
    "    def save(self):\n",
    "        \"\"\"Save the word document\"\"\"\n",
    "        print(f\"Saving {self.name} of type Word at {self.location}\\n...\\n...\\nSaved!\")\n",
    "\n",
    "\n",
    "class JSONFile(File):\n",
    "    \n",
    "    def __init__(self, name: str, location: Path):\n",
    "        self.name = name\n",
    "        self.location = location\n",
    "        \n",
    "    def save(self):\n",
    "        \"\"\"\n",
    "        I literally could have any series of operations here within reason \n",
    "        i.e. adhering to SOLID principles\n",
    "        \"\"\"\n",
    "        print(f\"Saving {self.name} of type JSON at {self.location}\\n...\\n...\\nSaved!!\")\n",
    "        \n",
    "\n",
    "class FancyEditor(Editor):\n",
    "        \n",
    "    def save_file(self):\n",
    "        print(f\"Fancy editor is going to save {self.file.name}\")\n",
    "        self.file.save()\n",
    "        "
   ]
  },
  {
   "cell_type": "code",
   "execution_count": 36,
   "id": "b727dd06-0ec5-429d-9d5e-fb00deb37478",
   "metadata": {},
   "outputs": [
    {
     "name": "stdout",
     "output_type": "stream",
     "text": [
      "Fancy editor is going to save amazing_story.doc\n",
      "Saving amazing_story.doc of type Word at /omg/booker/award/winner\n",
      "...\n",
      "...\n",
      "Saved!\n"
     ]
    }
   ],
   "source": [
    "editor = FancyEditor(WordFile(\"amazing_story.doc\", Path(\"/omg/booker/award/winner\")))\n",
    "\n",
    "editor.save_file()"
   ]
  },
  {
   "cell_type": "code",
   "execution_count": 37,
   "id": "5d78aa24-d5da-4c88-bdc8-fd60e7132df4",
   "metadata": {},
   "outputs": [
    {
     "name": "stdout",
     "output_type": "stream",
     "text": [
      "Fancy editor is going to save super.json\n",
      "Saving super.json of type JSON at /home/of/data/science\n",
      "...\n",
      "...\n",
      "Saved!!\n"
     ]
    }
   ],
   "source": [
    "editor1 = FancyEditor(JSONFile(\"super.json\", Path(\"/home/of/data/science\")))\n",
    "\n",
    "editor1.save_file()"
   ]
  },
  {
   "cell_type": "code",
   "execution_count": null,
   "id": "038cb410-fb64-4a02-8dd6-fa1561fa9f74",
   "metadata": {},
   "outputs": [],
   "source": []
  }
 ],
 "metadata": {
  "kernelspec": {
   "display_name": "Python 3 (ipykernel)",
   "language": "python",
   "name": "python3"
  },
  "language_info": {
   "codemirror_mode": {
    "name": "ipython",
    "version": 3
   },
   "file_extension": ".py",
   "mimetype": "text/x-python",
   "name": "python",
   "nbconvert_exporter": "python",
   "pygments_lexer": "ipython3",
   "version": "3.9.6"
  }
 },
 "nbformat": 4,
 "nbformat_minor": 5
}

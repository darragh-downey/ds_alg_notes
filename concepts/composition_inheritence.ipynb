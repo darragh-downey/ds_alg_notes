{
 "cells": [
  {
   "cell_type": "markdown",
   "id": "d3cc0c11-aa66-4afc-bcee-8badb0af869f",
   "metadata": {},
   "source": [
    "# Composition over Inheritence\n",
    "\n",
    "A short description on why inheritence should be used sparingly (maximum one-level depth) and why composition is the bees knees.\n",
    "\n",
    "### Reference\n",
    "Original source for below from [ArjanCodes](https://github.com/ArjanCodes/2021-composition-vs-inheritance/blob/main/with_composition.py) and his accompanying [YouTube video](https://youtu.be/0mcP8ZpUR38)"
   ]
  },
  {
   "cell_type": "code",
   "execution_count": 2,
   "id": "30f7e416-9883-4f4e-ba32-668191e335f8",
   "metadata": {},
   "outputs": [],
   "source": [
    "from abc import ABC, abstractmethod\n",
    "from dataclasses import dataclass\n",
    "from typing import Optional\n",
    "\n",
    "\n",
    "class Contract(ABC):\n",
    "    \"\"\"Represents a contract and a payment process for a given employee\"\"\"\n",
    "    \n",
    "    @abstractmethod\n",
    "    def get_payment(self) -> float:\n",
    "        \"\"\"Compute the amount to pay to the given employee\"\"\"\n",
    "        \n",
    "\n",
    "@dataclass\n",
    "class Commission(ABC):\n",
    "    \"\"\"Represents a commission payment process\"\"\"\n",
    "    \n",
    "    @abstractmethod\n",
    "    def get_payment(self) -> float:\n",
    "        \"\"\"Returns the commission to be paid out\"\"\"\n",
    "        \n",
    "\n",
    "@dataclass\n",
    "class ContractComission(Commission):\n",
    "    \"\"\"Represents a commission payment process based on the number of contracts landed.\"\"\"\n",
    "    \n",
    "    commission: float = 100\n",
    "    contracts_landed: int = 0\n",
    "    \n",
    "    def get_payment(self) -> float:\n",
    "        \"\"\"Returns the commission to be paid out.\"\"\"\n",
    "        return self.commission * self.contracts_landed\n",
    "    \n",
    "\n",
    "@dataclass\n",
    "class Employee:\n",
    "    \"\"\"Basic representation of an employee at a company\"\"\"\n",
    "    \n",
    "    name: str\n",
    "    id: int\n",
    "    # As contract is a Abstract Base Class other derivatives can be substituted in at runtime\n",
    "    contract: Contract\n",
    "    # As comission is a Abstract Base Class other derivatives can be substituted in at runtime\n",
    "    # also, not all employees receive a commission so Optional assists in managing that for us\n",
    "    commission: Optional[Commission] = None\n",
    "    \n",
    "    def compute_pay(self) -> float:\n",
    "        \"\"\"\"\"\"\n",
    "        pay = self.contract.get_payment()\n",
    "        if self.commission is not None:\n",
    "            pay += self.commission.get_payment()\n",
    "        return pay\n",
    "    \n",
    "\n",
    "@dataclass\n",
    "class HourlyContract(Contract):\n",
    "    \"\"\"Contract type for an employee being paid on an hourly basis.\"\"\"\n",
    "\n",
    "    pay_rate: float\n",
    "    hours_worked: int = 0\n",
    "    employer_cost: float = 1000\n",
    "\n",
    "    def get_payment(self) -> float:\n",
    "        return self.pay_rate * self.hours_worked + self.employer_cost\n",
    "\n",
    "\n",
    "@dataclass\n",
    "class SalariedContract(Contract):\n",
    "    \"\"\"Contract type for an employee being paid a monthly salary.\"\"\"\n",
    "\n",
    "    monthly_salary: float\n",
    "    percentage: float = 1\n",
    "\n",
    "    def get_payment(self) -> float:\n",
    "        return self.monthly_salary * self.percentage\n",
    "\n",
    "\n",
    "@dataclass\n",
    "class FreelancerContract(Contract):\n",
    "    \"\"\"Contract type for a freelancer (paid on an hourly basis).\"\"\"\n",
    "\n",
    "    pay_rate: float\n",
    "    hours_worked: int = 0\n",
    "    vat_number: str = \"\"\n",
    "\n",
    "    def get_payment(self) -> float:\n",
    "        return self.pay_rate * self.hours_worked\n"
   ]
  },
  {
   "cell_type": "markdown",
   "id": "7e355e89-051d-4393-9cef-3901cd47ed03",
   "metadata": {},
   "source": [
    "#### Example use of the above"
   ]
  },
  {
   "cell_type": "code",
   "execution_count": 4,
   "id": "625b3cc7-b44d-4c83-ae65-06ce6440b91e",
   "metadata": {},
   "outputs": [
    {
     "name": "stdout",
     "output_type": "stream",
     "text": [
      "Steve worked for 112 hours and earned $6712.0\n"
     ]
    }
   ],
   "source": [
    "employee_a_contract = HourlyContract(pay_rate=51.0, hours_worked=112)\n",
    "employee_a = Employee(name=\"Steve\", id=1, contract=employee_a_contract)\n",
    "print(\n",
    "    f\"{employee_a.name} worked for {employee_a.contract.hours_worked} hours \"\n",
    "    f\"and earned ${employee_a.compute_pay()}\"\n",
    "     )"
   ]
  },
  {
   "cell_type": "markdown",
   "id": "e6898077-6376-4374-b540-ad4f57de5e14",
   "metadata": {},
   "source": [
    "### Why this works vs the [Inheritence](https://github.com/ArjanCodes/2021-composition-vs-inheritance/blob/main/with_inheritance.py) implementation\n",
    "\n",
    "Inheritence is actually used in the above code - see the Commission and Contract families above; but its depth is limited to a single level. What do I mean by \"depth\"?\n",
    "\n",
    "Let's imagine a tree\n",
    "\n",
    "![tree](https://3.bp.blogspot.com/-pQZd_KArIUA/WGZE4RJh6bI/AAAAAAAAAB8/ajnSpVer5Jord5depkhzorBPhWyVQQYiQCLcB/s640/tree.PNG)"
   ]
  },
  {
   "cell_type": "markdown",
   "id": "3f4398bd-b4a5-4701-8124-fca294d7b319",
   "metadata": {},
   "source": [
    "In the case of inheritence you create a tree, where the \"Abstract Base Class\" or \"Super\" class is inherited by one or more children. These children (in some languages) can also be inherited by other classes. \n",
    "\n",
    "This is \"ok\" for shallow trees, but becomes a nightmare to maintain for larger trees as any change at the root must percolate to the leaves."
   ]
  },
  {
   "cell_type": "markdown",
   "id": "d101b38c-f452-4ee3-9d6b-bfeb9c77afe5",
   "metadata": {},
   "source": [
    "With composition, you can make use of inheritence but rather than creating a giant [inheritence] tree - you're creating a jigsaw puzzle. The object with the behaviour you're looking to implement is the picture you wish to create [or \"compose\"], and the jigsaw pieces are the [composite] objects you will join together to complete the picture.\n",
    "\n",
    "![jigsaw](https://zenartdesign.com/wp-content/uploads/2018/04/ZP2-MT-Found-Love-Wooden-Jigsaw-Puzzle-Composite-1000x1000.jpg)\n",
    "\n"
   ]
  },
  {
   "cell_type": "markdown",
   "id": "3ee83489-ce1c-429c-b72e-026aeedb3b5c",
   "metadata": {},
   "source": [
    "For the puzzle above, the shape of the pieces is consistent however, it is the colours that change.\n",
    "\n",
    "In the case of the code above, an Employee is expecting one [or both] of Contract and Commission Abstract Base Classes. The implementation of the ABCs would be the 'colour' of the pieces in this scenario."
   ]
  },
  {
   "cell_type": "code",
   "execution_count": null,
   "id": "e62248b3-ba63-4dd2-9567-48339d9686bf",
   "metadata": {},
   "outputs": [],
   "source": []
  }
 ],
 "metadata": {
  "kernelspec": {
   "display_name": "Python 3 (ipykernel)",
   "language": "python",
   "name": "python3"
  },
  "language_info": {
   "codemirror_mode": {
    "name": "ipython",
    "version": 3
   },
   "file_extension": ".py",
   "mimetype": "text/x-python",
   "name": "python",
   "nbconvert_exporter": "python",
   "pygments_lexer": "ipython3",
   "version": "3.9.6"
  }
 },
 "nbformat": 4,
 "nbformat_minor": 5
}

{
 "cells": [
  {
   "cell_type": "markdown",
   "id": "f38fa984-012b-4ca0-876a-6d8581d97710",
   "metadata": {},
   "source": [
    "# Bold *strategy* Cotton, let's hope it pays off!\n",
    "\n",
    "### Why is it useful?\n",
    "* Allows you to create family-(ies) of [algorithmic] behaviour which you can substitute with relative ease [or runtime!]"
   ]
  },
  {
   "cell_type": "code",
   "execution_count": 40,
   "id": "c86ae85e-63d6-4c27-beae-c9b8c0c9cc6e",
   "metadata": {},
   "outputs": [],
   "source": [
    "from abc import ABC, abstractmethod\n",
    "from datetime import date\n",
    "\n",
    "class ReportingRule(ABC):\n",
    "    \n",
    "    @abstractmethod\n",
    "    def rule(self, date) -> bool:\n",
    "        \"\"\"Apply your rule logic in the implementation of this abstract method\"\"\"\n",
    "        \n",
    "class DateReportingRule(ReportingRule):\n",
    "    \n",
    "    def __init__(self, day_of_week: date, occurence: int):\n",
    "        self.day_of_week = day_of_week\n",
    "        self.occurence = occurence\n",
    "    \n",
    "    def rule(self, date: date):\n",
    "        pass\n",
    "        \n",
    "class WeeklyReportingRule(DateReportingRule):\n",
    "    \n",
    "    def rule(self, date) -> bool:\n",
    "        \"\"\"This rule should be executed weekly on a Wednesday\"\"\"\n",
    "        print(f\"Checking week rule...\")\n",
    "        return date.weekday() == self.day_of_week\n",
    "\n",
    "class MonthlyReportingRule(DateReportingRule):\n",
    "    \n",
    "    def rule(self, date) -> bool:\n",
    "        \"\"\"Execute every second Tuesday of the given month\"\"\"\n",
    "        print(\"Checking month rule...\")\n",
    "        if date.weekday() != self.day_of_week:\n",
    "            return False\n",
    "        \n",
    "        count = 0\n",
    "        m = copy.copy(date)\n",
    "        while m.month != self.date.month:\n",
    "            if m.weekday() == self.day_of_week:\n",
    "                count += 1\n",
    "            if count == self.occurence:\n",
    "                return True\n",
    "            m += timedelta(days=1)\n",
    "        print(f\"Occurences does not match day count {self.occurence} != {count}\")\n",
    "        return False\n",
    "            "
   ]
  },
  {
   "cell_type": "code",
   "execution_count": 41,
   "id": "e3e71834-10e4-471c-97d8-485eca3f11c4",
   "metadata": {},
   "outputs": [],
   "source": [
    "m_rule = MonthlyReportingRule(3, 2)\n",
    "w_rule = WeeklyReportingRule(2, 1)\n",
    "\n",
    "d = date(2021, 9, 1)\n",
    "\n",
    "# Strategy pattern; pass object (or function) which manages algorithmic behaviour\n",
    "def meets_date_rule(d: date, r: DateReportingRule):\n",
    "    print(f\"For {d} which is a\", \"%s\" % d.strftime(\"%A\"))\n",
    "    if r.rule(d):\n",
    "        print(f\"Met rule criteria for {d} {r.day_of_week}\")\n",
    "    else:\n",
    "        print(f\"Failed rule criteria {d.weekday()} != {r.day_of_week}\")"
   ]
  },
  {
   "cell_type": "code",
   "execution_count": 42,
   "id": "1d20eed9-707b-4df4-b14f-816109b9fb6d",
   "metadata": {},
   "outputs": [
    {
     "name": "stdout",
     "output_type": "stream",
     "text": [
      "For 2021-09-01 which is a Wednesday\n",
      "Checking month rule...\n",
      "Failed rule criteria 2 != 3\n"
     ]
    }
   ],
   "source": [
    "meets_date_rule(d, m_rule)"
   ]
  },
  {
   "cell_type": "code",
   "execution_count": 43,
   "id": "16ce668a-bf1f-44b2-ab9b-a36669edc8d3",
   "metadata": {},
   "outputs": [
    {
     "name": "stdout",
     "output_type": "stream",
     "text": [
      "For 2021-09-01 which is a Wednesday\n",
      "Checking week rule...\n",
      "Met rule criteria for 2021-09-01 2\n"
     ]
    }
   ],
   "source": [
    "meets_date_rule(d, w_rule)"
   ]
  },
  {
   "cell_type": "code",
   "execution_count": null,
   "id": "caede570-f9b0-449c-83f6-08f834cce07b",
   "metadata": {},
   "outputs": [],
   "source": []
  }
 ],
 "metadata": {
  "kernelspec": {
   "display_name": "Python 3 (ipykernel)",
   "language": "python",
   "name": "python3"
  },
  "language_info": {
   "codemirror_mode": {
    "name": "ipython",
    "version": 3
   },
   "file_extension": ".py",
   "mimetype": "text/x-python",
   "name": "python",
   "nbconvert_exporter": "python",
   "pygments_lexer": "ipython3",
   "version": "3.9.6"
  }
 },
 "nbformat": 4,
 "nbformat_minor": 5
}

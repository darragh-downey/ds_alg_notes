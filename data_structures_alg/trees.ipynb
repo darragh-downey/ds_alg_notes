{
 "cells": [
  {
   "cell_type": "markdown",
   "id": "3f2adcc5-cd5f-49a6-90c3-c921f6122db6",
   "metadata": {},
   "source": [
    "# Trees"
   ]
  }
 ],
 "metadata": {
  "kernelspec": {
   "display_name": "Python 3 (ipykernel)",
   "language": "python",
   "name": "python3"
  },
  "language_info": {
   "codemirror_mode": {
    "name": "ipython",
    "version": 3
   },
   "file_extension": ".py",
   "mimetype": "text/x-python",
   "name": "python",
   "nbconvert_exporter": "python",
   "pygments_lexer": "ipython3",
   "version": "3.9.6"
  }
 },
 "nbformat": 4,
 "nbformat_minor": 5
}

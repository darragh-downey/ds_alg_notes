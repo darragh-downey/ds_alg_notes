{
 "cells": [
  {
   "cell_type": "markdown",
   "id": "a6006b3f-3314-4f3e-9876-4fc185c5cc78",
   "metadata": {},
   "source": [
    "# Searching\n",
    "\n",
    "### Binary Search [Bisect search]\n",
    "Great breakdown by [mCoding](https://youtu.be/tgVSkMA8joQ)"
   ]
  },
  {
   "cell_type": "code",
   "execution_count": 13,
   "id": "b803e431-83c5-4b4d-80e2-1285c1f343ae",
   "metadata": {},
   "outputs": [],
   "source": [
    "import random\n",
    "\n",
    "to_b_searched = sorted([i for i in range(1,1001)])"
   ]
  },
  {
   "cell_type": "code",
   "execution_count": 24,
   "id": "f4fe760a-1908-44d9-bddc-8868b9820286",
   "metadata": {},
   "outputs": [
    {
     "data": {
      "text/plain": [
       "[True, True, True, True, True, True, True, True, True, True, False, False]"
      ]
     },
     "execution_count": 24,
     "metadata": {},
     "output_type": "execute_result"
    }
   ],
   "source": [
    "### Finding the first/last instance of '7'\n",
    "\n",
    "T,F = True, False\n",
    "[1,2,3,4,5,6,7,7,7,7,8,9] \n",
    "[T,T,T,T,T,T,F,F,F,F,F,F] # <  7? Bisect left - first instance\n",
    "[T,T,T,T,T,T,T,T,T,T,F,F] # <= 7? Bisect right - last instance"
   ]
  },
  {
   "cell_type": "code",
   "execution_count": 25,
   "id": "989c5175-ccb4-4ad4-af56-77db2d2e21c4",
   "metadata": {},
   "outputs": [],
   "source": [
    "\n",
    "def binary_search(l: list, target: int) -> int:\n",
    "    lo = 0\n",
    "    hi = len(l)\n",
    "    # increase the lower-bound and decrease the upper-bound\n",
    "    while lo < hi:\n",
    "        # lo + (hi-lo)//2 -> a memory safe calculation [overflow]\n",
    "        mid = (lo + hi)//2 # Python is greedy...\n",
    "        \n",
    "        # here you find the index of the 'first' instance with '<'\n",
    "        # to find the 'last' instance you would change to '<='\n",
    "        if l[mid] < target:\n",
    "            # increase the lowerbound as we encountered 'True'\n",
    "            lo = mid + 1\n",
    "        else:\n",
    "            # decrease the upperbound as we encountered 'False'\n",
    "            hi = mid\n",
    "    return lo\n",
    "        "
   ]
  },
  {
   "cell_type": "code",
   "execution_count": 26,
   "id": "b523dd2d-6ea5-408d-8dae-0c0df3efa8d8",
   "metadata": {},
   "outputs": [
    {
     "name": "stdout",
     "output_type": "stream",
     "text": [
      "918 == 918\n",
      "918 == 1\n"
     ]
    }
   ],
   "source": [
    "ind = binary_search(to_b_searched, 918)\n",
    "print(f\"{to_b_searched[ind]} == {918}\")\n",
    "print(f\"{to_b_searched[ind]} == {1}\")"
   ]
  },
  {
   "cell_type": "code",
   "execution_count": null,
   "id": "07bdbcbc-dab6-4e1b-a33a-18314767c4a4",
   "metadata": {},
   "outputs": [],
   "source": []
  }
 ],
 "metadata": {
  "kernelspec": {
   "display_name": "Python 3 (ipykernel)",
   "language": "python",
   "name": "python3"
  },
  "language_info": {
   "codemirror_mode": {
    "name": "ipython",
    "version": 3
   },
   "file_extension": ".py",
   "mimetype": "text/x-python",
   "name": "python",
   "nbconvert_exporter": "python",
   "pygments_lexer": "ipython3",
   "version": "3.9.6"
  }
 },
 "nbformat": 4,
 "nbformat_minor": 5
}

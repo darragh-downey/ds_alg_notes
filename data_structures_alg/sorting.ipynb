{
 "cells": [
  {
   "cell_type": "markdown",
   "id": "552c6933-a053-468e-86ae-22f255bfb7bd",
   "metadata": {},
   "source": [
    "# Sort[ing] your life out\n",
    "\n",
    "### A meta-analysis of Quicksort vs Mergesort\n",
    "And why Quicksort is better..."
   ]
  },
  {
   "cell_type": "code",
   "execution_count": 37,
   "id": "9cfcec1d-e196-4f15-8ba7-e73e6e091af0",
   "metadata": {},
   "outputs": [
    {
     "name": "stdout",
     "output_type": "stream",
     "text": [
      "The line_profiler extension is already loaded. To reload it, use:\n",
      "  %reload_ext line_profiler\n"
     ]
    }
   ],
   "source": [
    "import random\n",
    "%load_ext line_profiler\n",
    "\n",
    "arr = [22, 11, 88, 66, 55, 77, 33, 44]\n",
    "\n",
    "to_be_sorted_a = [random.randint(1,10000) for _ in range(1,10000)]\n",
    "to_be_sorted_b = to_be_sorted_a"
   ]
  },
  {
   "cell_type": "markdown",
   "id": "7052a827-2aca-4cbe-b7ad-1c3a6529dfde",
   "metadata": {},
   "source": [
    "## Mergesort\n",
    "\n",
    "Running Time:\n",
    "\n",
    "Worst Case: O(n * log(n))\n",
    "\n",
    "Space Complexity: O(n) [not in place]\n",
    "\n",
    "#### Notes"
   ]
  },
  {
   "cell_type": "code",
   "execution_count": 38,
   "id": "6cbaf0e5-687e-44f2-8cde-0b1a1ef7354f",
   "metadata": {},
   "outputs": [],
   "source": [
    "def merge(left, right):\n",
    "    \"\"\"Merge sort merging function.\"\"\"\n",
    "\n",
    "    left_index, right_index = 0, 0\n",
    "    result = []\n",
    "    while left_index < len(left) and right_index < len(right):\n",
    "        if left[left_index] < right[right_index]:\n",
    "            result.append(left[left_index])\n",
    "            left_index += 1\n",
    "        else:\n",
    "            result.append(right[right_index])\n",
    "            right_index += 1\n",
    "\n",
    "    result += left[left_index:]\n",
    "    result += right[right_index:]\n",
    "    return result\n",
    "\n",
    "\n",
    "def merge_sort(array):\n",
    "    \"\"\"Merge sort algorithm implementation.\"\"\"\n",
    "\n",
    "    if len(array) <= 1:  # base case\n",
    "        return array\n",
    "\n",
    "    # divide array in half and merge sort recursively\n",
    "    half = len(array) // 2\n",
    "    left = merge_sort(array[:half])\n",
    "    right = merge_sort(array[half:])\n",
    "\n",
    "    return merge(left, right)"
   ]
  },
  {
   "cell_type": "code",
   "execution_count": 39,
   "id": "fcf9f161-eb0e-4a32-b0d1-c3962dd26b87",
   "metadata": {},
   "outputs": [
    {
     "name": "stdout",
     "output_type": "stream",
     "text": [
      "7 µs ± 23.2 ns per loop (mean ± std. dev. of 7 runs, 100000 loops each)\n"
     ]
    }
   ],
   "source": [
    "%timeit merge_sort(arr)\n",
    "# res = merge_sort(to_be_sorted_a)\n",
    "# print(res)"
   ]
  },
  {
   "cell_type": "code",
   "execution_count": 40,
   "id": "61bfea4b-325c-420e-b61e-ba35ec63fb98",
   "metadata": {},
   "outputs": [
    {
     "data": {
      "text/plain": [
       "Timer unit: 1e-06 s\n",
       "\n",
       "Total time: 4.3e-05 s\n",
       "\n",
       "Could not find file /var/folders/nx/zfz6tj913f72p0c46vbf3b_m0000gn/T/ipykernel_99110/2365604076.py\n",
       "Are you sure you are running this program from the same directory\n",
       "that you ran the profiler from?\n",
       "Continuing without the function's contents.\n",
       "\n",
       "Line #      Hits         Time  Per Hit   % Time  Line Contents\n",
       "==============================================================\n",
       "    19                                           \n",
       "    20                                           \n",
       "    21                                           \n",
       "    22        15          6.0      0.4     14.0  \n",
       "    23         8          3.0      0.4      7.0  \n",
       "    24                                           \n",
       "    25                                           \n",
       "    26         7          3.0      0.4      7.0  \n",
       "    27         7          4.0      0.6      9.3  \n",
       "    28         7          2.0      0.3      4.7  \n",
       "    29                                           \n",
       "    30         7         25.0      3.6     58.1"
      ]
     },
     "metadata": {},
     "output_type": "display_data"
    }
   ],
   "source": [
    "%lprun -f merge_sort merge_sort(arr)"
   ]
  },
  {
   "cell_type": "markdown",
   "id": "8c48d165-4422-46e6-8955-5aa02b9439ca",
   "metadata": {},
   "source": [
    "## Quicksort\n",
    "\n",
    "[Quicksort](https://youtu.be/COk73cpQbFQ)\n",
    "\n",
    "Running Time:\n",
    "\n",
    "Worst case: O(n^2)\n",
    "\n",
    "Best/Avg case: O(n * log(n))\n",
    "\n",
    "Space Complexity: O(1) Constant space [in-place sort]\n",
    "\n",
    "#### Notes\n",
    "\n",
    "* Choose a pivot element (usually the last element but it can be random)\n",
    "* Store elements:\n",
    "    * less than the pivot in left subarray\n",
    "    * greater than the pivot in right subarray\n",
    "* Call quicksort recursively\n",
    "    * on left subarray\n",
    "    * on right subarray\n"
   ]
  },
  {
   "cell_type": "code",
   "execution_count": 45,
   "id": "7b47befb-6889-4c21-bf2b-aebb310a8988",
   "metadata": {},
   "outputs": [],
   "source": [
    "def quicksort(arr: list, start: int, end: int):\n",
    "    \"\"\"Subdivide array into left and right subarrays based on a pivot\"\"\"\n",
    "    if start < end:\n",
    "        partition_pos = partition(arr, start, end)\n",
    "        quicksort(arr, start, partition_pos - 1)\n",
    "        quicksort(arr, partition_pos + 1, end)\n",
    "\n",
    "\n",
    "def partition(arr: list, start: int, end: int) -> int:\n",
    "    \"\"\"Select a pivot\"\"\"\n",
    "    pivot = arr[end] # this could be a random index in the array\n",
    "    pIndex = start   # moves right\n",
    "    \n",
    "    for i in range(start, end-1):\n",
    "        if arr[i] <= pivot:\n",
    "            arr[i], arr[pIndex] = arr[pIndex], arr[i] # swap\n",
    "            pIndex += 1\n",
    "    \n",
    "    arr[pIndex], arr[end] = arr[end], arr[pIndex] # swap\n",
    "    return pIndex"
   ]
  },
  {
   "cell_type": "code",
   "execution_count": 46,
   "id": "ee2dacc7-c3dd-4adf-98d7-48e1851c355f",
   "metadata": {},
   "outputs": [
    {
     "name": "stdout",
     "output_type": "stream",
     "text": [
      "3.26 µs ± 8.27 ns per loop (mean ± std. dev. of 7 runs, 100000 loops each)\n"
     ]
    }
   ],
   "source": [
    "%timeit quicksort(arr, 0, len(arr)-1)\n",
    "# %timeit quicksort(to_be_sorted_b, 0, len(to_be_sorted_b)-1) recursion depth exceeded"
   ]
  },
  {
   "cell_type": "code",
   "execution_count": 47,
   "id": "b6ffebd3-c036-4933-a833-04791da3b521",
   "metadata": {},
   "outputs": [
    {
     "data": {
      "text/plain": [
       "Timer unit: 1e-06 s\n",
       "\n",
       "Total time: 2.2e-05 s\n",
       "\n",
       "Could not find file /var/folders/nx/zfz6tj913f72p0c46vbf3b_m0000gn/T/ipykernel_99110/3651229414.py\n",
       "Are you sure you are running this program from the same directory\n",
       "that you ran the profiler from?\n",
       "Continuing without the function's contents.\n",
       "\n",
       "Line #      Hits         Time  Per Hit   % Time  Line Contents\n",
       "==============================================================\n",
       "     1                                           \n",
       "     2                                           \n",
       "     3         9          5.0      0.6     22.7  \n",
       "     4         4         14.0      3.5     63.6  \n",
       "     5         4          1.0      0.2      4.5  \n",
       "     6         4          2.0      0.5      9.1"
      ]
     },
     "metadata": {},
     "output_type": "display_data"
    }
   ],
   "source": [
    "%lprun -f quicksort quicksort(arr, 0, len(arr)-1)"
   ]
  },
  {
   "cell_type": "code",
   "execution_count": null,
   "id": "89a12ca4-4b41-4762-9e21-ae1de12ad0aa",
   "metadata": {},
   "outputs": [],
   "source": []
  }
 ],
 "metadata": {
  "kernelspec": {
   "display_name": "Python 3 (ipykernel)",
   "language": "python",
   "name": "python3"
  },
  "language_info": {
   "codemirror_mode": {
    "name": "ipython",
    "version": 3
   },
   "file_extension": ".py",
   "mimetype": "text/x-python",
   "name": "python",
   "nbconvert_exporter": "python",
   "pygments_lexer": "ipython3",
   "version": "3.9.6"
  }
 },
 "nbformat": 4,
 "nbformat_minor": 5
}
